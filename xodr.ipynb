{
 "cells": [
  {
   "cell_type": "code",
   "execution_count": null,
   "metadata": {},
   "outputs": [],
   "source": [
    "import os\n",
    "import requests\n",
    "import numpy as np\n",
    "import pyvista as pv\n",
    "from datetime import datetime\n",
    "from opendrive import OpenDrive"
   ]
  },
  {
   "cell_type": "code",
   "execution_count": null,
   "metadata": {},
   "outputs": [],
   "source": [
    "path = os.path.dirname(os.path.curdir)\n",
    "file = os.path.join(path, \"./data\", \"Roundabout8Course.xodr\")\n",
    "# file = os.path.join(path, \"./data\", \"Crossing8Course.xodr\")\n",
    "# file = os.path.join(path, \"./data\", \"CrossingComplex8Course.xodr\")\n",
    "# file = os.path.join(path, \"./data\", \"Town4.xodr\")\n",
    "\n",
    "# # To retrieve a file from the web\n",
    "# uri = \"https://raw.githubusercontent.com/carla-simulator/opendrive-test-files/master/OpenDrive/Town04.xodr\"\n",
    "# res = requests.get(uri)\n",
    "# od = OpenDrive.from_string(res.text)\n",
    "\n",
    "t_start = datetime.now()\n",
    "\n",
    "od = OpenDrive.parse(file)\n",
    "\n",
    "rm = od.get_road_mesh_new(s_step=1.0)\n",
    "mk = od.get_roadmarker_mesh(s_step=1.0)\n",
    "\n",
    "t_ela = (datetime.now() - t_start).microseconds / 1000\n",
    "\n",
    "print(t_ela)"
   ]
  },
  {
   "cell_type": "code",
   "execution_count": null,
   "metadata": {},
   "outputs": [],
   "source": [
    "\n",
    "class TriMesh():\n",
    "    points: list[list[np.float64]]\n",
    "\n",
    "    def __init__(self, inside, outside):\n",
    "        # weld common points together\n",
    "        comb = [ (i, o) for i,o in zip(inside, outside) if i is not o ]\n",
    "        self.points = [ x for y in comb for x in y ]\n",
    "        # this could be suboptimal if points are the same\n",
    "        # self.points = [ x for y in zip(inside, outside) for x in y ]\n",
    "\n",
    "    def get_points(self):\n",
    "        return np.array(self.points)\n",
    "\n",
    "    def get_strips(self):\n",
    "        res = [len(self.points)]\n",
    "        return res + [i for i in range(len(self.points))]\n",
    "\n",
    "    def get_mesh(self):\n",
    "        return pv.PolyData(self.points, strips=self.get_strips())"
   ]
  },
  {
   "cell_type": "code",
   "execution_count": null,
   "metadata": {},
   "outputs": [],
   "source": [
    "pv.set_plot_theme(\"document\")\n",
    "\n",
    "pl = pv.Plotter()\n",
    "\n",
    "lane_color = { \"standard\": \"dimgray\", \"restricted\": \"darkred\", \"shoulder\": \"green\", \"driving\": \"dimgray\", \"sidewalk\": \"lightgray\", \"border\": \"gray\" }\n",
    "\n",
    "for road_id, road_data in rm.items():\n",
    "    for section_id, section_data in road_data.items():\n",
    "        lane_bounds = []\n",
    "\n",
    "        for lane_id, lane_data in section_data.items():\n",
    "            # print(lane_id)\n",
    "            \n",
    "            lane = lane_data['data']\n",
    "             \n",
    "            if lane.type != \"none\":\n",
    "                trm = TriMesh(lane_data['in'], lane_data['out'])\n",
    "                mesh = trm.get_mesh()  \n",
    "                lclr = lane_color[lane.type]\n",
    "                pl.add_mesh(mesh, show_edges=False, color=pv.Color(lclr, opacity=1.0))\n",
    "\n",
    "                if int(lane.id) < -1:\n",
    "\n",
    "                    trm = TriMesh(lane_data['in'], lane_bounds)\n",
    "                    mesh = trm.get_mesh()\n",
    "                    pl.add_mesh(mesh, show_edges=False, color=pv.Color(lclr, opacity=1.0))\n",
    "              \n",
    "                if int(lane.id) > 1:\n",
    "\n",
    "                    trm = TriMesh(lane_data['in'], lane_bounds)\n",
    "                    mesh = trm.get_mesh()\n",
    "                    pl.add_mesh(mesh, show_edges=False, color=pv.Color(lclr, opacity=1.0))\n",
    "                    \n",
    "                lane_bounds = lane_data['out']\n",
    "                \n",
    "\n",
    "\n",
    "for road_id, road_data in mk.items():\n",
    "    for section_id, section_data in road_data.items():\n",
    "        for lane_id, lane_data in section_data.items():\n",
    "            for marker_id, marker_data in lane_data.items():\n",
    "\n",
    "                marker = marker_data['data']\n",
    "\n",
    "                trm = TriMesh(marker_data['in'], marker_data['out'])\n",
    "                mesh = trm.get_mesh()\n",
    "\n",
    "                mkcol = \"white\" if marker.color == \"standard\" else marker.color\n",
    "                if marker.type != \"none\":\n",
    "                    pl.add_mesh(mesh, show_edges=False, color=pv.Color(mkcol, opacity=1.0))\n",
    "\n",
    "pl.show(jupyter_backend='client')\n"
   ]
  }
 ],
 "metadata": {
  "kernelspec": {
   "display_name": "Python 3",
   "language": "python",
   "name": "python3"
  },
  "language_info": {
   "codemirror_mode": {
    "name": "ipython",
    "version": 3
   },
   "file_extension": ".py",
   "mimetype": "text/x-python",
   "name": "python",
   "nbconvert_exporter": "python",
   "pygments_lexer": "ipython3",
   "version": "3.9.12"
  },
  "orig_nbformat": 4,
  "vscode": {
   "interpreter": {
    "hash": "b573575be6554bc04ff4271f804b01ac2b1f8d1aaf23d41b9a0fa8d27edc1f06"
   }
  }
 },
 "nbformat": 4,
 "nbformat_minor": 2
}
